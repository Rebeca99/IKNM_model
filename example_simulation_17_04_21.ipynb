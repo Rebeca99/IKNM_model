{
 "cells": [
  {
   "cell_type": "code",
   "execution_count": 1,
   "metadata": {},
   "outputs": [],
   "source": [
    "\n",
    "import itertools\n",
    "get_ipython().magic(u'matplotlib inline')\n",
    "import numpy as np\n",
    "import matplotlib\n",
    "%matplotlib qt5\n",
    "import matplotlib.pyplot as plt\n",
    "from matplotlib import animation, rc\n",
    "from IPython.display import HTML\n",
    "import vertex_model as model\n",
    "from vertex_model.run_select import run_simulation_INM, definecolors\n",
    "import vertex_model.initialisation as init"
   ]
  },
  {
   "cell_type": "code",
   "execution_count": 2,
   "metadata": {},
   "outputs": [
    {
     "name": "stdout",
     "output_type": "stream",
     "text": [
      "test\n"
     ]
    }
   ],
   "source": [
    "import vertex_model\n",
    "print(\"test\")\n"
   ]
  },
  {
   "cell_type": "code",
   "execution_count": 2,
   "metadata": {},
   "outputs": [
    {
     "name": "stdout",
     "output_type": "stream",
     "text": [
      "0.001\n",
      "0.001\n",
      "0.001\n",
      "0.001\n",
      "0.001\n"
     ]
    }
   ],
   "source": [
    "#### Parameter used in the simulation are picked up form Gobal_Constant.py file\n",
    "\n",
    "### Choose simulation to run\n",
    "# def run_simulation_INM(x, timend,rand, type):\n",
    "#     sim_type 0 simulation_with_division_clone (no differentiation rate)\n",
    "#     sim_type 1 simulation_with_division_clone_differentiation (all differentiation rate)\n",
    "#     sim_type 2 simulation_with_division_clone_differenciation_3stripes (2 population with and without diffentiation rate)\n",
    "#     sim_type 3 simulation_with_division_clone_whole_tissue_differenciation (differentiation rate everywhere)\n",
    "\n",
    "#use type 2 and parameter i=4 for floor plate\n",
    "import numpy as np\n",
    "type_=2\n",
    "L_point = [-.4, -0.2,-0.3, -0.05, 0.075, 0.15]\n",
    "G_point = [0.14, 0.12, 0.1, 0.065, 0.04, 0.02]\n",
    "i=4\n",
    "G=G_point[i]\n",
    "L=L_point[i]\n",
    "K=1.0\n",
    "#run simulation with the choosen parameters ; line 521 in run_select.py\n",
    "rand =  np.random.RandomState() #random number to choose Lambda\n",
    "params = [K,G,L]  # K=x[0],G=x[1],L=x[2]\n",
    "# Commented by Rebeca:\n",
    "#history = run_simulation_INM(params,300,rand,type_) #return history = a list of length 300; simulation time = 300\n",
    "# history = a list of cells objects at all timepoints in the simulation\n",
    "\n",
    "# Run simulation multiple times - (17/04)\n",
    "no_simulations = 5\n",
    "Cell_cycle_lengths = []\n",
    "for i in range(no_simulations):\n",
    "    history = run_simulation_INM(params,300,rand,type_)  \n",
    "    last = history[-1] # get state of the cells object from the previous step\n",
    "    deadcells_last = np.where(last.empty())[0] # mask for deadcells at the last timestep\n",
    "    new_cell_cycle_lengths = last.properties['age'][deadcells_last] # correct cell cycle lengths = age of deadcells\n",
    "    Cell_cycle_lengths = np.append(Cell_cycle_lengths, new_cell_cycle_lengths)\n",
    "    \n",
    "\n",
    "# Code above works."
   ]
  },
  {
   "cell_type": "code",
   "execution_count": 158,
   "metadata": {},
   "outputs": [],
   "source": [
    "# 16/04\n",
    "\n",
    "# evolution of position for ONE nucleus -> IKNM model 1 and 2\n",
    "D=0.00002\n",
    "k = 0.015 # a constant\n",
    "timend=300 # length of simulation\n",
    "dt = 0.001\n",
    "final_zt_test = []\n",
    "\n",
    "zt_initial = 0\n",
    "for t in np.arange(0, 300, dt):\n",
    "    zt_initial = zt_initial + np.sqrt(2*D*dt)*np.random.randn(1) # random number between 0 and 1\n",
    "   \n",
    "\n",
    "    final_zt_test.append(zt_initial)\n",
    "\n",
    "time = np.arange(0, 300, dt)\n",
    "\n",
    "plt.plot(time, final_zt_test)\n",
    "\n",
    "plt.show()\n",
    "\n",
    "\n",
    "    \n"
   ]
  },
  {
   "cell_type": "code",
   "execution_count": 282,
   "metadata": {},
   "outputs": [
    {
     "name": "stdout",
     "output_type": "stream",
     "text": [
      "3474\n",
      "23132\n",
      "11379\n",
      "<class 'numpy.ndarray'>\n",
      "11753\n",
      "23132\n",
      "3074\n",
      "1937\n",
      "1537\n"
     ]
    }
   ],
   "source": [
    "# FINALLY CORRECT\n",
    "last = history[-1]\n",
    "print(len(cells.properties['age'])) # 3474 total cells = 1537 deadlcells + 1937 alive cells ACROSS ENTIRE TIMESPAN.\n",
    "print(len(last.properties['age'])) # 23132 cells in total at the last timestep - correct\n",
    "deadcells_last = np.where(last.empty())[0] # mask for deadcells at the last timestep\n",
    "new_cell_cycle_lengths = last.properties['age'][deadcells_last] # correct cell cycle lengths = age of deadcells\n",
    "print(len(new_cell_cycle_lengths)) # 11379 deadcells at last timestep\n",
    "print(type(new_cell_cycle_lengths))\n",
    "new_alivecells = np.where(~last.empty())[0] #  alive cells at the last timestep = 11753\n",
    "print(len(new_alivecells))\n",
    "\n",
    "\n",
    "print(len(last)) # at the last timestep there are 23132 cells\n",
    "print(len(Cell_cycle_lengths))\n",
    "print(len(np.where(~cells.empty())[0])) # alivecells in total, across all timsteps\n",
    "print(len(np.where(cells.empty())[0]))\n"
   ]
  },
  {
   "cell_type": "code",
   "execution_count": 168,
   "metadata": {},
   "outputs": [
    {
     "name": "stdout",
     "output_type": "stream",
     "text": [
      "[3.85437592 3.97039189 2.93285886 ... 0.31852258 0.29116626 0.11549087]\n"
     ]
    }
   ],
   "source": [
    "print(new_cell_cycle_lengths)\n"
   ]
  },
  {
   "cell_type": "code",
   "execution_count": 283,
   "metadata": {},
   "outputs": [
    {
     "name": "stdout",
     "output_type": "stream",
     "text": [
      "<class 'list'>\n",
      "11379\n"
     ]
    }
   ],
   "source": [
    "\n",
    "new_cell_cycle_lengths_LIST = new_cell_cycle_lengths.tolist()\n",
    "print(type(new_cell_cycle_lengths_LIST))\n",
    "print(len(new_cell_cycle_lengths))\n",
    "plt.hist(new_cell_cycle_lengths_LIST, bins = 70)\n",
    "plt.show()"
   ]
  },
  {
   "cell_type": "code",
   "execution_count": 307,
   "metadata": {},
   "outputs": [
    {
     "name": "stdout",
     "output_type": "stream",
     "text": [
      "0.11549086735962699\n",
      "1.2 0.9043977947448647 0.9801754607063138\n"
     ]
    }
   ],
   "source": [
    "# Check for gamma distribution\n",
    "\n",
    "# CORRECT\n",
    "# Fit line to histogram\n",
    "import matplotlib.mlab as mlab\n",
    "from scipy.stats import gamma\n",
    "from scipy.stats import erlang\n",
    "x = np.linspace(0,5.2,11379)\n",
    "\n",
    "#define min of array new_cell_cycle_lengths -> name it loc -> use it in fit\n",
    "loc = min(new_cell_cycle_lengths)\n",
    "# Gamma\n",
    "print(loc)\n",
    "shape, loc, scale = gamma.fit(new_cell_cycle_lengths, loc = 1, fa=1.2) # loc = position of cutoff\n",
    "print(shape, loc, scale)\n",
    "y = gamma.pdf(x, shape, loc, scale) # inverse of scale = rate\n",
    "h = plt.hist(new_cell_cycle_lengths, bins = 70, density=True)\n",
    "plt.plot(x, y, lw=2)\n",
    "plt.show()"
   ]
  },
  {
   "cell_type": "code",
   "execution_count": 308,
   "metadata": {},
   "outputs": [
    {
     "data": {
      "text/plain": [
       "KstestResult(statistic=0.6126438089046178, pvalue=0.0)"
      ]
     },
     "execution_count": 308,
     "metadata": {},
     "output_type": "execute_result"
    }
   ],
   "source": [
    "# Perform Kolmogorov-Smirnov to test for GAMMA distribution\n",
    "\n",
    "from scipy.stats import kstest\n",
    "kstest(Cell_cycle_lengths, 'gamma', args=(1.2, 0.9043977947448647, 0.9801754607063138)) # => GAMMA"
   ]
  },
  {
   "cell_type": "code",
   "execution_count": 132,
   "metadata": {},
   "outputs": [
    {
     "name": "stdout",
     "output_type": "stream",
     "text": [
      "3.237836920697841 0.6751338155184441\n"
     ]
    }
   ],
   "source": [
    "# Fit line to histogram\n",
    "import matplotlib.mlab as mlab\n",
    "import scipy\n",
    "from scipy.stats import norm\n",
    "\n",
    "x = np.linspace(0,5.5, 3074)\n",
    "\n",
    "#Normal\n",
    "mu, sigma = scipy.stats.norm.fit(Cell_cycle_lengths) # loc = position of cutoff\n",
    "print(mu, sigma)\n",
    "best_fit_line = scipy.stats.norm.pdf(40, mu, sigma)\n",
    "plt.hist(Cell_cycle_lengths, bins = 40)\n",
    "plt.plot(x, y*300, lw=2)\n",
    "plt.show()\n"
   ]
  },
  {
   "cell_type": "code",
   "execution_count": 292,
   "metadata": {},
   "outputs": [
    {
     "name": "stdout",
     "output_type": "stream",
     "text": [
      "213.92641178676854 -6.639527865383446 0.046171596258460096\n"
     ]
    }
   ],
   "source": [
    "# Gamma?\n",
    "# Fit line to histogram\n",
    "import matplotlib.mlab as mlab\n",
    "from scipy.stats import gamma\n",
    "x = np.linspace(0,5.5,3074)\n",
    "\n",
    "# Gamma\n",
    "shape, loc, scale = gamma.fit(Cell_cycle_lengths) # loc = position of cutoff\n",
    "print(shape, loc, scale)\n",
    "y = gamma.pdf(x, shape, loc, scale) # inverse of scale = rate\n",
    "h = plt.hist(Cell_cycle_lengths, bins = 40)\n",
    "plt.plot(x, y*300, lw=2)\n",
    "plt.show()\n"
   ]
  },
  {
   "cell_type": "code",
   "execution_count": 116,
   "metadata": {},
   "outputs": [
    {
     "data": {
      "text/plain": [
       "KstestResult(statistic=0.016461684513238872, pvalue=0.371434863638903)"
      ]
     },
     "execution_count": 116,
     "metadata": {},
     "output_type": "execute_result"
    }
   ],
   "source": [
    "# Perform Kolmogorov-Smirnov test to for GAMMA distribution\n",
    "\n",
    "from scipy.stats import kstest\n",
    "kstest(Cell_cycle_lengths, 'gamma', args=(213.92641178676854, -6.639527865383446, 0.046171596258460096)) # it is gamma.\n",
    "# modify shape to 1 to check for Erlang => p-value = 0"
   ]
  },
  {
   "cell_type": "code",
   "execution_count": 114,
   "metadata": {},
   "outputs": [
    {
     "data": {
      "text/plain": [
       "KstestResult(statistic=0.9550397070942962, pvalue=0.0)"
      ]
     },
     "execution_count": 114,
     "metadata": {},
     "output_type": "execute_result"
    }
   ],
   "source": [
    "# Perform Kolmogorov-Smirnov test to test for NORMAL distribution.\n",
    "\n",
    "from scipy.stats import kstest\n",
    "mu, sigma = 3.2378, 0.6751\n",
    "kstest(Cell_cycle_lengths,'norm') # => NORMAL \n",
    "\n"
   ]
  },
  {
   "cell_type": "code",
   "execution_count": 91,
   "metadata": {},
   "outputs": [
    {
     "name": "stdout",
     "output_type": "stream",
     "text": [
      "[2.70132884 2.24096166 2.63895108 ... 0.80100273 0.76280735 0.79074712]\n",
      "3074\n",
      "0.36079052102142384\n",
      "3.4691207881402404\n",
      "[2.607621   2.29400969 2.17832815 ... 0.80100273 0.76280735 0.79074712]\n",
      "1537\n"
     ]
    }
   ],
   "source": [
    "print(Cell_cycle_lengths)\n",
    "print(len(Cell_cycle_lengths))\n",
    "print(min(Cell_cycle_lengths))\n",
    "print(max(Cell_cycle_lengths))\n",
    "print(cell_cycle_lengths)\n",
    "print(len(cell_cycle_lengths))"
   ]
  },
  {
   "cell_type": "code",
   "execution_count": 70,
   "metadata": {},
   "outputs": [
    {
     "name": "stdout",
     "output_type": "stream",
     "text": [
      "0.001\n",
      "[1400] [2580 2581 2582 4221 4222 4223]\n",
      "[1998] [4080 4081 4082 7191 7192 7193]\n",
      "0.001\n",
      "[2064] [1626 1627 1628 7395 7396 7397]\n"
     ]
    }
   ],
   "source": [
    "# MY LAST ATTEMPT - IGNORE FOR NOW\n",
    "\n",
    "import numpy as np\n",
    "type_=2\n",
    "L_point = [-.4, -0.2,-0.3, -0.05, 0.075, 0.15]\n",
    "G_point = [0.14, 0.12, 0.1, 0.065, 0.04, 0.02]\n",
    "i=4\n",
    "G=G_point[i]\n",
    "L=L_point[i]\n",
    "K=1.0\n",
    "#run simulation with the choosen parameters ; line 521 in run_select.py\n",
    "rand =  np.random.RandomState() #random number to choose Lambda\n",
    "params = [K,G,L]  # K=x[0],G=x[1],L=x[2]\n",
    "\n",
    "no_simulations = 2\n",
    "Cell_cycle_lengths = []\n",
    "for i in range(no_simulations):\n",
    "    history = run_simulation_INM(params,50,rand,type_)  # reduced time from 300 to 50\n",
    "    last = history[-1] # get state of the cells object from the previous step. History is a list of cells objects at\n",
    "    #sequential timesteps -> get the last time step -> history[-1]\n",
    "    \n",
    "    def definecolors(cells):\n",
    "        peach = '#eed5b7'\n",
    "        light_blue ='#87cefa'\n",
    "        pink = '#ffc0cb'\n",
    "        light_green = '#98fb98'\n",
    "        palette = np.array([peach,'g',peach, 'r',peach,'g',peach])\n",
    "        colors = cells.properties['parent_group']\n",
    "\n",
    "        return palette[colors]\n",
    "\n",
    "\n",
    "    for cells in history:\n",
    "        cells.properties['color'] = definecolors(cells)\n",
    "        \n",
    "    fig=plt.figure()\n",
    "    ax = fig.gca()\n",
    "# initialization function: plot the background of each frame\n",
    "    def init_fig():\n",
    "        ax = plt.figure()\n",
    "        return (ax,)\n",
    "# animation function. This is called sequentially\n",
    "    def animate_fig(i):\n",
    "        cells_array=history\n",
    "        v_max = np.max((np.max(cells_array[0].mesh.vertices), np.max(cells_array[-1].mesh.vertices)))\n",
    "        size = 2.0*v_max\n",
    "        cells = history[i]\n",
    "        return model.draw(cells,ax,size)\n",
    "# call the animator. blit=True means only re-draw the parts that have changed.\n",
    "\n",
    "    anim = animation.FuncAnimation(fig,animate_fig, init_func=init_fig,frames=len(history))\n",
    "    \n",
    "    deadcells = np.where(cells.empty())[0] # create mask for deadcells\n",
    "    cell_cycle_lengths = last.properties['age'][deadcells]\n",
    "    Cell_cycle_lengths = np.append(Cell_cycle_lengths, cell_cycle_lengths)"
   ]
  },
  {
   "cell_type": "code",
   "execution_count": 82,
   "metadata": {},
   "outputs": [
    {
     "name": "stdout",
     "output_type": "stream",
     "text": [
      "[2.25690504 2.49519104 2.33779534 ... 1.00281598 0.92970437 0.93250162]\n",
      "3097\n",
      "0.3394980928018918\n",
      "3.3939339529302672\n",
      "2.118409687238453\n",
      "1537\n",
      "[2.11840969 2.38781345 2.42508161 ... 1.00281598 0.92970437 0.93250162]\n"
     ]
    }
   ],
   "source": [
    "# IT WORKED!!! - IGNORE \n",
    "print(Cell_cycle_lengths)\n",
    "print(len(Cell_cycle_lengths))\n",
    "print(min(Cell_cycle_lengths))\n",
    "print(max(Cell_cycle_lengths))\n",
    "print(Cell_cycle_lengths[1560]) # here starts the second cell_cycle_lengths\n",
    "\n",
    "print(len(cell_cycle_lengths))\n",
    "print((cell_cycle_lengths))\n",
    "# now run with len = 300"
   ]
  },
  {
   "cell_type": "code",
   "execution_count": 6,
   "metadata": {},
   "outputs": [
    {
     "ename": "RuntimeError",
     "evalue": "Requested MovieWriter (ffmpeg) not available",
     "output_type": "error",
     "traceback": [
      "\u001b[0;31m---------------------------------------------------------------------------\u001b[0m",
      "\u001b[0;31mRuntimeError\u001b[0m                              Traceback (most recent call last)",
      "\u001b[0;32m<ipython-input-6-f885f4acf935>\u001b[0m in \u001b[0;36m<module>\u001b[0;34m\u001b[0m\n\u001b[0;32m----> 1\u001b[0;31m \u001b[0mHTML\u001b[0m\u001b[0;34m(\u001b[0m\u001b[0manim\u001b[0m\u001b[0;34m.\u001b[0m\u001b[0mto_html5_video\u001b[0m\u001b[0;34m(\u001b[0m\u001b[0;34m)\u001b[0m\u001b[0;34m)\u001b[0m\u001b[0;34m\u001b[0m\u001b[0;34m\u001b[0m\u001b[0m\n\u001b[0m",
      "\u001b[0;32m~/opt/anaconda3/lib/python3.8/site-packages/matplotlib/animation.py\u001b[0m in \u001b[0;36mto_html5_video\u001b[0;34m(self, embed_limit)\u001b[0m\n\u001b[1;32m   1314\u001b[0m                 \u001b[0;31m# We create a writer manually so that we can get the\u001b[0m\u001b[0;34m\u001b[0m\u001b[0;34m\u001b[0m\u001b[0;34m\u001b[0m\u001b[0m\n\u001b[1;32m   1315\u001b[0m                 \u001b[0;31m# appropriate size for the tag\u001b[0m\u001b[0;34m\u001b[0m\u001b[0;34m\u001b[0m\u001b[0;34m\u001b[0m\u001b[0m\n\u001b[0;32m-> 1316\u001b[0;31m                 \u001b[0mWriter\u001b[0m \u001b[0;34m=\u001b[0m \u001b[0mwriters\u001b[0m\u001b[0;34m[\u001b[0m\u001b[0mmpl\u001b[0m\u001b[0;34m.\u001b[0m\u001b[0mrcParams\u001b[0m\u001b[0;34m[\u001b[0m\u001b[0;34m'animation.writer'\u001b[0m\u001b[0;34m]\u001b[0m\u001b[0;34m]\u001b[0m\u001b[0;34m\u001b[0m\u001b[0;34m\u001b[0m\u001b[0m\n\u001b[0m\u001b[1;32m   1317\u001b[0m                 writer = Writer(codec='h264',\n\u001b[1;32m   1318\u001b[0m                                 \u001b[0mbitrate\u001b[0m\u001b[0;34m=\u001b[0m\u001b[0mmpl\u001b[0m\u001b[0;34m.\u001b[0m\u001b[0mrcParams\u001b[0m\u001b[0;34m[\u001b[0m\u001b[0;34m'animation.bitrate'\u001b[0m\u001b[0;34m]\u001b[0m\u001b[0;34m,\u001b[0m\u001b[0;34m\u001b[0m\u001b[0;34m\u001b[0m\u001b[0m\n",
      "\u001b[0;32m~/opt/anaconda3/lib/python3.8/site-packages/matplotlib/animation.py\u001b[0m in \u001b[0;36m__getitem__\u001b[0;34m(self, name)\u001b[0m\n\u001b[1;32m    164\u001b[0m         \u001b[0;32mif\u001b[0m \u001b[0mself\u001b[0m\u001b[0;34m.\u001b[0m\u001b[0mis_available\u001b[0m\u001b[0;34m(\u001b[0m\u001b[0mname\u001b[0m\u001b[0;34m)\u001b[0m\u001b[0;34m:\u001b[0m\u001b[0;34m\u001b[0m\u001b[0;34m\u001b[0m\u001b[0m\n\u001b[1;32m    165\u001b[0m             \u001b[0;32mreturn\u001b[0m \u001b[0mself\u001b[0m\u001b[0;34m.\u001b[0m\u001b[0m_registered\u001b[0m\u001b[0;34m[\u001b[0m\u001b[0mname\u001b[0m\u001b[0;34m]\u001b[0m\u001b[0;34m\u001b[0m\u001b[0;34m\u001b[0m\u001b[0m\n\u001b[0;32m--> 166\u001b[0;31m         \u001b[0;32mraise\u001b[0m \u001b[0mRuntimeError\u001b[0m\u001b[0;34m(\u001b[0m\u001b[0;34mf\"Requested MovieWriter ({name}) not available\"\u001b[0m\u001b[0;34m)\u001b[0m\u001b[0;34m\u001b[0m\u001b[0;34m\u001b[0m\u001b[0m\n\u001b[0m\u001b[1;32m    167\u001b[0m \u001b[0;34m\u001b[0m\u001b[0m\n\u001b[1;32m    168\u001b[0m \u001b[0;34m\u001b[0m\u001b[0m\n",
      "\u001b[0;31mRuntimeError\u001b[0m: Requested MovieWriter (ffmpeg) not available"
     ]
    }
   ],
   "source": [
    "HTML(anim.to_html5_video())"
   ]
  },
  {
   "cell_type": "code",
   "execution_count": 444,
   "metadata": {},
   "outputs": [
    {
     "name": "stdout",
     "output_type": "stream",
     "text": [
      "1345\n"
     ]
    }
   ],
   "source": [
    "print(len(np.where(~cells.empty())[0])) #number of alive cells\n",
    "alivecells = np.where(~cells.empty())[0]\n",
    "age_alivecells = cells.properties['age'][alivecells]\n"
   ]
  },
  {
   "cell_type": "code",
   "execution_count": 449,
   "metadata": {},
   "outputs": [
    {
     "name": "stdout",
     "output_type": "stream",
     "text": [
      "674\n",
      "489\n",
      "182\n",
      "945\n"
     ]
    }
   ],
   "source": [
    "# All cell cycle phases - target positions calculations\n",
    "\n",
    "zt = cells.properties['zposn'] # current positions of cells\n",
    "z0 = np.zeros_like(zt) # Return an array of zeros with the same shape and type as the nucl position array (all cells).\n",
    "\n",
    "# G1\n",
    "G1_cells = np.where(properties['age'] <= t_G1)[0] # array with indices of G1 cells\n",
    "print(len(G1_cells)) # 674 cells are in G1\n",
    "G1_cells_ages = last.properties['age'][G1_cells]\n",
    "z0[G1_cells] = 1-1.0/t_G1*G1_cells_ages\n",
    "\n",
    "\n",
    "# S\n",
    "S_cells = np.where((t_G1 < properties['age']) & (properties['age'] <= t_G1+t_S))[0] # array with indices of S cells\n",
    "print(len(S_cells)) # 489 cells are in S\n",
    "S_cells_ages = properties['age'][S_cells]\n",
    "z0[S_cells] = 0.0 # positions of S cells\n",
    "\n",
    "\n",
    "# G2\n",
    "G2_cells = np.where((t_G1+t_S < properties['age']) & (properties['age'] <= t_G1+t_S+t_G2))[0] # array with indices of G2 cells\n",
    "print(len(G2_cells)) # 182 cells are in G2\n",
    "G2_cells_ages = properties['age'][G2_cells]\n",
    "z0[G2_cells] = 1.0/(t_G2)*(G2_cells_ages-(t_G1+t_S)) # positions of G2 cells\n",
    "\n",
    "# M\n",
    "M_cells = np.where(properties['age'] > t_G1+t_S+t_G2)[0] # array with indices of M cells = deadcells\n",
    "print(len(M_cells)) # 945 cells are in M\n",
    "M_cells_ages = properties['age'][M_cells]\n",
    "z0[M_cells] = 1.0 # position of M cells\n",
    "\n"
   ]
  },
  {
   "cell_type": "code",
   "execution_count": 450,
   "metadata": {},
   "outputs": [
    {
     "name": "stdout",
     "output_type": "stream",
     "text": [
      "2290\n"
     ]
    }
   ],
   "source": [
    "# all nuclei positions\n",
    "#all_positions = np.concatenate(z0[G1_cells], z0[G2_cells])\n",
    "list_G1_pos = z0[G1_cells].tolist()\n",
    "list_S_pos = z0[S_cells].tolist()\n",
    "list_G2_pos = z0[G2_cells].tolist()\n",
    "list_M_pos = z0[M_cells].tolist()\n",
    "list_positions = list_G1_pos + list_S_pos + list_G2_pos + list_M_pos\n",
    "print(len(list_positions))\n",
    "plt.hist(list_positions)\n",
    "plt.show()"
   ]
  },
  {
   "cell_type": "code",
   "execution_count": null,
   "metadata": {},
   "outputs": [],
   "source": [
    "# CLEAN neighbor identification -> from LAST timepoint\n",
    "\n",
    "last = history[-1] # cells at the last timestep are in last\n",
    "print(len(last)) # number of cells at the last timestep\n",
    "\n",
    "print(type(last.mesh.edges))\n",
    "print(len(last.mesh.edges)) # objects\n",
    "print(len(last.mesh.face_id_by_edge)) # Same no of cell IDs as edges because IDs are repeated for each edge\n",
    "print(type(last.mesh.face_id_by_edge)) # array -> iterate over its elements.\n",
    "\n",
    "\n",
    "# Make a list of edges objects so that I can iterate over it\n",
    "edges_ids = last.mesh.edges.ids # -> my list from 0 to number of edges -1 \n",
    "reverse_edges_ids = last.mesh.edges.reverse # the list for reverse edges - each element corresponds to the respective\n",
    "# edge id\n",
    "\n",
    "\n",
    "# Check that the cell IDs are repeated for each edge of that particular cell\n",
    "print(last.mesh.face_id_by_edge) # print cell IDs\n",
    "print(type(last.mesh.face_id_by_edge))\n",
    "face_id_by_edge_LIST = last.mesh.face_id_by_edge.tolist() # convert to LIST before counting an entry's occurences.\n",
    "check_no = face_id_by_edge_LIST.count(17232)\n",
    "print(check_no) # = 5 => cell with ID 17232 has 5 sides = 5 neighbors\n",
    "\n",
    "# Get cells' IDs (unique)\n",
    "unique_IDs = np.unique(last.mesh.face_id_by_edge) # alive cells at last timestep\n",
    "print(len(unique_IDs)) # 11753 alive cells - as found before\n",
    "print(type(unique_IDs))\n",
    "\n",
    "#Identify neighbors and number of neighbors\n",
    " # initialise with 0 neighbors' nuclei positions\n",
    "for unique_ID in unique_IDs: # loop over cell IDs\n",
    "        neighbors_IDs = np.unique(adjacent_edge_id) #get neigh IDs as unique \n",
    "        no_neighbors = len(neighbors_IDs)\n",
    "        \n",
    "        zjt = last.properties['zposn'][neighbors_IDs] # get current position of neighbors\n",
    "        sum_neigh_pos = 0\n",
    "        for neighbor in neighbors_IDs: \n",
    "            zjt = zjt + k*(z0 - zjt)*dt + np.sqrt(2*D*dt)*np.random.randn(len(zjt))\n",
    "            sum += zjt\n",
    "            \n",
    "            \n",
    "            \n",
    "\n"
   ]
  },
  {
   "cell_type": "code",
   "execution_count": 313,
   "metadata": {},
   "outputs": [
    {
     "name": "stdout",
     "output_type": "stream",
     "text": [
      "[    0     1     2 ... 70515 70516 70517]\n",
      "[52823 18008 14250 ... 57018 70513 57016]\n",
      "[17232 12076 17231 ... 12813 23131 23130]\n"
     ]
    }
   ],
   "source": [
    "print(last.mesh.edges.ids)\n",
    "print(last.mesh.edges.reverse)\n",
    "print(last.mesh.face_id_by_edge)"
   ]
  },
  {
   "cell_type": "code",
   "execution_count": 339,
   "metadata": {},
   "outputs": [],
   "source": [
    "# Calculate zt = current position of the nucleus by adding noise to target position\n",
    "zt = last.properties['zposn'] # position at last timestep\n",
    "D=0.15\n",
    "k = 0.015 # a constant\n",
    "timend=300 # length of simulation\n",
    "\n",
    "dt = 0.001\n",
    "\n",
    "for t in np.arange(0, timend, dt):\n",
    "    zt = zt + k*(z0 - zt)*dt + np.sqrt(2*D*dt)*np.random.randn(len(zt))\n",
    "\n",
    "\n",
    "# Adding noise to model with velocity =     \n",
    "    \n",
    "    \n"
   ]
  },
  {
   "cell_type": "code",
   "execution_count": null,
   "metadata": {},
   "outputs": [],
   "source": [
    "# Define mean position neighbors:\n",
    "# cell has min 3 neighbors\n",
    "# Define neighbors: neighbors = cells whose 2 of their vertices coincide with 2 of the cell's. store in a list, neighbors.\n",
    "# n = number of neighbors: n = len(neighbors)\n",
    "# Position of neighbors (nuclei) = zj: repeat np.where statements for each neighbor to find out \n",
    "sum = 0\n",
    "for neighbor in np.arange(3, n+1, 1): # do this under for t in np.arange(0, timend, dt)\n",
    "    zt = zt + k*(z0 - zt)*dt + np.sqrt(2*D*dt)*np.random.randn(len(zt))\n",
    "    sum = sum + zt\n",
    "zj = sum/n #calculate mean neighbor position\n",
    "    \n",
    "      \n",
    "    \n",
    "# Adding CROWDING\n",
    "def f(zj):\n",
    "    \n",
    "def force_on_cell(zi,zj): #force on cell at position zi\n",
    "    force = 0\n",
    "    \n",
    "    for zj in neighbors(zi): \n",
    "        if zi-zj < 0:\n",
    "            f1 = -f1\n",
    "        elif zi-zj > 0.2: # if the nuclei do not overlap - say nucleus length along apico-basal axis = 0.1\n",
    "        # nuclei do not overlap if zi-zj > 2 x nucl length\n",
    "            f(zi-zj) = 1/m*f(zi-zj) # make the force vanishing ~\n",
    "        else :\n",
    "            f(zi-zj) = f(zi-zj)\n",
    "      \n",
    "        force += f(zi-zj)\n",
    "    \n",
    "    return force"
   ]
  },
  {
   "cell_type": "code",
   "execution_count": null,
   "metadata": {},
   "outputs": [],
   "source": [
    "# IKNM dynamics 1 -> drift = velocity from current model\n",
    "\n",
    "#G1. if 0 <= properties['age'] <= t_G1:\n",
    "v1 = -1/t_G1\n",
    "#elif t_G1 < properties['age'] <= t_G1 + t_S :\n",
    "v1 = 0\n",
    "# elif t_G1 + t_S < properties['age'] <= t_G1 + t_S + t_G2:\n",
    "v1 = 1/t_G2\n",
    "# else: (t_G1 + t_S + t_G2 < properties['age'])\n",
    "v1 = 0\n",
    "\n",
    "# v2 = A*(properties['zposn'] - mean_neigh_pos)\n",
    "# cell has min 3 neighbors\n",
    "# Define neighbors: neighbors = cells whose 2 of their vertices coincide with 2 of the cell's. store in a list, neighbors.\n",
    "# n = number of neighbors: len(neighbors)\n",
    "# Position of neighbors (nuclei) = neigh_pos: repeat if statements for each neighbor to find out v1\n",
    " sum = 0\n",
    "for i in range(3, n+1, 1):\n",
    "sum = sum + neigh_pos\n",
    "# mean neigh position: \n",
    "mean_neigh_pos = sum/n\n",
    "\n",
    "# A = ct; value?\n",
    "\n",
    "v = v1 + v2\n",
    "\n",
    "\n",
    "\n",
    "\n",
    "\n",
    "\n"
   ]
  },
  {
   "cell_type": "code",
   "execution_count": 98,
   "metadata": {},
   "outputs": [],
   "source": [
    "#this is not actually used\n",
    "\n",
    "# Euler–Maruyama method - Wikipedia code - Potentially add noise dependence on the current position -> if cell is in\n",
    "# G1 or S => higher noise. But this might be counteracted by the low position of the nuclei, which are pushed further\n",
    "# down by neighbors above -> this noise might be counteracted in this way so probs not worth adding dependence on pos.\n",
    "\n",
    "num_sims = 5  # Display five runs\n",
    "\n",
    "t_init = 3\n",
    "t_end  = 7\n",
    "N      = 1000  # Compute 1000 grid points\n",
    "dt     = float(t_end - t_init) / N\n",
    "y_init = 0\n",
    "\n",
    "c_theta = 0.7\n",
    "c_mu    = 1.5\n",
    "c_sigma = 0.06\n",
    "\n",
    "def mu(y, t):\n",
    "    \"\"\"Implement the Ornstein–Uhlenbeck mu.\"\"\"  # = \\theta (\\mu-Y_t)\n",
    "    # replace with v\n",
    "    return c_theta * (c_mu - y)\n",
    "\n",
    "def sigma(y, t):\n",
    "    \"\"\"Implement the Ornstein–Uhlenbeck sigma.\"\"\"  # = \\sigma\n",
    "    # Diffusion coefficient\n",
    "    return c_sigma\n",
    "\n",
    "def dW(delta_t):\n",
    "    \"\"\"Sample a random number at each call.\"\"\"\n",
    "    # White Gaussian noise\n",
    "    return np.random.normal(loc=0.0, scale=np.sqrt(delta_t))\n",
    "\n",
    "ts = np.arange(t_init, t_end + dt, dt)\n",
    "ys = np.zeros(N + 1)\n",
    "\n",
    "ys[0] = y_init\n",
    "\n",
    "for _ in range(num_sims):\n",
    "    for i in range(1, ts.size):\n",
    "        t = t_init + (i - 1) * dt\n",
    "        y = ys[i - 1]\n",
    "        ys[i] = y + mu(y, t) * dt + sigma(y, t) * dW(dt)\n",
    "    plt.plot(ts, ys)\n",
    "\n",
    "plt.xlabel(\"time (s)\")\n",
    "h = plt.ylabel(\"y\")\n",
    "h.set_rotation(0)\n",
    "plt.show()"
   ]
  },
  {
   "cell_type": "code",
   "execution_count": 224,
   "metadata": {},
   "outputs": [
    {
     "name": "stdout",
     "output_type": "stream",
     "text": [
      "[ True  True  True ... False False False]\n",
      "[False False False ...  True  True  True]\n"
     ]
    }
   ],
   "source": [
    "print(cells.empty())\n",
    "print(~cells.empty()) # Turns Trues into Falses and viceversa."
   ]
  },
  {
   "cell_type": "code",
   "execution_count": 240,
   "metadata": {},
   "outputs": [
    {
     "name": "stdout",
     "output_type": "stream",
     "text": [
      "[ 0.34678344  0.09469718  1.41721669  1.67473528 -0.33489884]\n",
      "<class 'tuple'>\n",
      "<class 'numpy.ndarray'>\n"
     ]
    }
   ],
   "source": [
    "a = np.random.normal(size=5)\n",
    "print(a)\n",
    "print(type(np.where(a>0)))\n",
    "print(type(np.where(a>0)[0]))"
   ]
  },
  {
   "cell_type": "code",
   "execution_count": 219,
   "metadata": {},
   "outputs": [
    {
     "name": "stdout",
     "output_type": "stream",
     "text": [
      "[[ 1.217858   -1.07929465 -0.64485792]\n",
      " [ 0.94932936  0.97203389  0.25382137]\n",
      " [ 1.46529953  0.4708984   0.64353754]\n",
      " [-0.00430902  0.84851356 -0.42626672]\n",
      " [ 0.71115515 -1.30060859 -1.01177399]]\n",
      "(array([0, 1, 1, 1, 2, 2, 2, 3, 4]), array([0, 0, 1, 2, 0, 1, 2, 1, 0]))\n",
      "[0 1 1 1 2 2 2 3 4]\n"
     ]
    }
   ],
   "source": [
    "a = np.random.normal(size=(5,3))\n",
    "print(a)\n",
    "print(np.where(a>0)) # first array gives rows where a>0; second array gives columns where a>0, for each row\n",
    "print(np.where(a>0)[0]) # returns only the first dimension = the rows of the array where a>0, repeated for as many..\n",
    "# ..times a number a>0 exists"
   ]
  },
  {
   "cell_type": "code",
   "execution_count": null,
   "metadata": {},
   "outputs": [],
   "source": []
  }
 ],
 "metadata": {
  "kernelspec": {
   "display_name": "Python 3",
   "language": "python",
   "name": "python3"
  },
  "language_info": {
   "codemirror_mode": {
    "name": "ipython",
    "version": 3
   },
   "file_extension": ".py",
   "mimetype": "text/x-python",
   "name": "python",
   "nbconvert_exporter": "python",
   "pygments_lexer": "ipython3",
   "version": "3.8.5"
  }
 },
 "nbformat": 4,
 "nbformat_minor": 2
}
